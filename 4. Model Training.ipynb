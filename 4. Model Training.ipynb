{
 "cells": [
  {
   "cell_type": "markdown",
   "id": "2495c814-da09-4ec1-8d36-7460ddca1ec1",
   "metadata": {},
   "source": [
    "## Incremental Model Training using SGDClassifier"
   ]
  },
  {
   "cell_type": "code",
   "execution_count": 1,
   "id": "b452a3f3-a8b9-4eba-a468-3a7e90d67b2f",
   "metadata": {
    "tags": []
   },
   "outputs": [],
   "source": [
    "from utils.training import fit_and_save_sgd_classifier, load_class_weights\n",
    "from utils.preprocessing import get_saved_preprocessed_data\n",
    "import os"
   ]
  },
  {
   "cell_type": "code",
   "execution_count": 2,
   "id": "0f95bae5-27df-4cfb-8968-d14e96d9a5e2",
   "metadata": {
    "tags": []
   },
   "outputs": [],
   "source": [
    "X_TRAIN_PCA_PATH = os.path.join(\"data\", 'preprocessed', 'x_google_playstore_train_pca.csv')\n",
    "Y_TRAIN_ENCODED_PATH = os.path.join(\"data\", 'preprocessed', 'y_google_playstore_train_encoded.csv')\n",
    "CLASS_WEIGHTS_PATH = os.path.join(\"models\", 'class_weights.bin')\n",
    "CHUNKSIZE = 100000\n",
    "MODEL_PATH = os.path.join(\"models\", 'sgd_classifier.bin')"
   ]
  },
  {
   "cell_type": "code",
   "execution_count": 3,
   "id": "4f1cd7e1-ab38-4fb8-8e1e-944573a7eea5",
   "metadata": {
    "tags": []
   },
   "outputs": [],
   "source": [
    "x_train = get_saved_preprocessed_data(X_TRAIN_PCA_PATH, chunksize=CHUNKSIZE)\n",
    "y_train = get_saved_preprocessed_data(Y_TRAIN_ENCODED_PATH, chunksize=CHUNKSIZE)\n",
    "class_weights = load_class_weights(class_weights_path=CLASS_WEIGHTS_PATH)"
   ]
  },
  {
   "cell_type": "code",
   "execution_count": 4,
   "id": "8bb5e373-2009-4b5e-931e-305a17c7dba4",
   "metadata": {
    "tags": []
   },
   "outputs": [
    {
     "name": "stdout",
     "output_type": "stream",
     "text": [
      "Entering fit_and_save_sgd_classifier\n",
      "Saved the Model & Exiting fit_and_save_sgd_classifier\n"
     ]
    }
   ],
   "source": [
    "fit_and_save_sgd_classifier(x_train, y_train, class_weights=class_weights, model_save_path=MODEL_PATH)"
   ]
  },
  {
   "cell_type": "code",
   "execution_count": null,
   "id": "c2e4e0d8-9d06-4203-bf72-6b515def0709",
   "metadata": {},
   "outputs": [],
   "source": []
  }
 ],
 "metadata": {
  "kernelspec": {
   "display_name": "Python 3 (ipykernel)",
   "language": "python",
   "name": "python3"
  },
  "language_info": {
   "codemirror_mode": {
    "name": "ipython",
    "version": 3
   },
   "file_extension": ".py",
   "mimetype": "text/x-python",
   "name": "python",
   "nbconvert_exporter": "python",
   "pygments_lexer": "ipython3",
   "version": "3.11.4"
  }
 },
 "nbformat": 4,
 "nbformat_minor": 5
}
