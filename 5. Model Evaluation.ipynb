{
 "cells": [
  {
   "cell_type": "code",
   "execution_count": 1,
   "id": "99616a32-eba6-4e7a-ab11-465e78e13cd5",
   "metadata": {
    "tags": []
   },
   "outputs": [],
   "source": [
    "import cloudpickle\n",
    "import os\n",
    "from utils.evaluation import load_model, model_evaluation, predict\n",
    "from utils.preprocessing import get_saved_preprocessed_data"
   ]
  },
  {
   "cell_type": "code",
   "execution_count": 2,
   "id": "928d1c5e-67bc-4049-baa4-b99ef7b94227",
   "metadata": {
    "tags": []
   },
   "outputs": [],
   "source": [
    "MODEL_PATH = os.path.join(\"models\", 'sgd_classifier.bin')\n",
    "\n",
    "X_TRAIN_PCA_PATH = os.path.join(\"data\", 'preprocessed', 'x_google_playstore_train_pca.csv')\n",
    "Y_TRAIN_ENCODED_PATH = os.path.join(\"data\", 'preprocessed', 'y_google_playstore_train_encoded.csv')\n",
    "\n",
    "X_VAL_PCA_PATH = os.path.join(\"data\", 'preprocessed', 'x_google_playstore_val_pca.csv')\n",
    "Y_VAL_ENCODED_PATH = os.path.join(\"data\", 'preprocessed', 'y_google_playstore_val_encoded.csv')\n",
    "\n",
    "X_TEST_PCA_PATH = os.path.join(\"data\", 'preprocessed', 'x_google_playstore_test_pca.csv')\n",
    "Y_TEST_ENCODED_PATH = os.path.join(\"data\", 'preprocessed', 'y_google_playstore_test_encoded.csv')\n",
    "\n",
    "CHUNKSIZE = 100000"
   ]
  },
  {
   "cell_type": "code",
   "execution_count": 3,
   "id": "eec633de-5f84-4bf2-bb24-771a42c53cc9",
   "metadata": {
    "tags": []
   },
   "outputs": [],
   "source": [
    "x_train = get_saved_preprocessed_data(X_TRAIN_PCA_PATH, chunksize=CHUNKSIZE)\n",
    "y_train = get_saved_preprocessed_data(Y_TRAIN_ENCODED_PATH, chunksize=CHUNKSIZE)\n",
    "\n",
    "x_val = get_saved_preprocessed_data(X_VAL_PCA_PATH, chunksize=CHUNKSIZE)\n",
    "y_val = get_saved_preprocessed_data(Y_VAL_ENCODED_PATH, chunksize=CHUNKSIZE)\n",
    "\n",
    "x_test = get_saved_preprocessed_data(X_TEST_PCA_PATH, chunksize=CHUNKSIZE)\n",
    "y_test = get_saved_preprocessed_data(Y_TEST_ENCODED_PATH, chunksize=CHUNKSIZE)\n",
    "\n",
    "model = load_model(MODEL_PATH)"
   ]
  },
  {
   "cell_type": "markdown",
   "id": "e7a47dbd-2084-4c58-b29f-b8e19fa5c6fe",
   "metadata": {
    "tags": []
   },
   "source": [
    "### Model Evaluation on Training Set"
   ]
  },
  {
   "cell_type": "code",
   "execution_count": 4,
   "id": "1cc8de8d-23e7-4a68-9ca7-c3f7698c9075",
   "metadata": {},
   "outputs": [
    {
     "data": {
      "text/plain": [
       "0.6251809911575696"
      ]
     },
     "execution_count": 4,
     "metadata": {},
     "output_type": "execute_result"
    }
   ],
   "source": [
    "train_predictions = predict(x_train, y_train, model)\n",
    "model_evaluation(train_predictions) # ROC AUC"
   ]
  },
  {
   "cell_type": "markdown",
   "id": "cfacdca1-42f3-4aa5-9c40-9891a29a1a54",
   "metadata": {
    "tags": []
   },
   "source": [
    "### Model Evaluation on Validation Set"
   ]
  },
  {
   "cell_type": "code",
   "execution_count": 5,
   "id": "e63c503b-bb1f-48b8-9ae7-1cc178eed9e1",
   "metadata": {},
   "outputs": [
    {
     "data": {
      "text/plain": [
       "0.6228524357001961"
      ]
     },
     "execution_count": 5,
     "metadata": {},
     "output_type": "execute_result"
    }
   ],
   "source": [
    "val_predictions = predict(x_val, y_val, model)\n",
    "model_evaluation(val_predictions) # ROC AUC"
   ]
  },
  {
   "cell_type": "markdown",
   "id": "7b2a19e3-1eaa-4de8-8c3c-53229d4c1be8",
   "metadata": {
    "tags": []
   },
   "source": [
    "### Model Evaluation on Test Set"
   ]
  },
  {
   "cell_type": "code",
   "execution_count": 6,
   "id": "c7bc7aec-a28e-45ad-843a-8d94f9b6c47e",
   "metadata": {
    "tags": []
   },
   "outputs": [
    {
     "data": {
      "text/plain": [
       "0.620619840675471"
      ]
     },
     "execution_count": 6,
     "metadata": {},
     "output_type": "execute_result"
    }
   ],
   "source": [
    "test_predictions = predict(x_test, y_test, model)\n",
    "model_evaluation(test_predictions) # ROC AUC"
   ]
  },
  {
   "cell_type": "code",
   "execution_count": null,
   "id": "7bbef5c2-ec21-4039-bf40-257d3fe933cf",
   "metadata": {},
   "outputs": [],
   "source": []
  }
 ],
 "metadata": {
  "kernelspec": {
   "display_name": "Python 3 (ipykernel)",
   "language": "python",
   "name": "python3"
  },
  "language_info": {
   "codemirror_mode": {
    "name": "ipython",
    "version": 3
   },
   "file_extension": ".py",
   "mimetype": "text/x-python",
   "name": "python",
   "nbconvert_exporter": "python",
   "pygments_lexer": "ipython3",
   "version": "3.11.4"
  }
 },
 "nbformat": 4,
 "nbformat_minor": 5
}
