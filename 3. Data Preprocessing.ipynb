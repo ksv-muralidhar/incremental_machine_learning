{
 "cells": [
  {
   "cell_type": "code",
   "execution_count": 1,
   "id": "be64e6a5-2e67-49c0-80c2-bc719569718e",
   "metadata": {
    "tags": []
   },
   "outputs": [],
   "source": [
    "import os\n",
    "from utils.preprocessing import data_preprocess_pipeline"
   ]
  },
  {
   "cell_type": "code",
   "execution_count": 2,
   "id": "ff8252e5-0f8e-4c81-a596-ab38d82bee64",
   "metadata": {
    "tags": []
   },
   "outputs": [],
   "source": [
    "X_TRAIN_PATH = os.path.join(\"data\", 'raw', 'x_google_playstore_train.csv')\n",
    "Y_TRAIN_PATH = os.path.join(\"data\", 'raw', 'y_google_playstore_train.csv')\n",
    "X_TRAIN_PREPROCESS_PATH = os.path.join(\"data\", 'preprocessed', 'x_google_playstore_train_preprocessed.csv')\n",
    "Y_TRAIN_ENCODED_PATH = os.path.join(\"data\", 'preprocessed', 'y_google_playstore_train_encoded.csv')\n",
    "X_TRAIN_PCA_PATH = os.path.join(\"data\", 'preprocessed', 'x_google_playstore_train_pca.csv')\n",
    "\n",
    "\n",
    "\n",
    "X_VAL_PATH = os.path.join(\"data\", 'raw', 'x_google_playstore_val.csv')\n",
    "Y_VAL_PATH = os.path.join(\"data\", 'raw', 'y_google_playstore_val.csv')\n",
    "X_VAL_PREPROCESS_PATH = os.path.join(\"data\", 'preprocessed', 'x_google_playstore_val_preprocessed.csv')\n",
    "Y_VAL_ENCODED_PATH = os.path.join(\"data\", 'preprocessed', 'y_google_playstore_val_encoded.csv')\n",
    "X_VAL_PCA_PATH = os.path.join(\"data\", 'preprocessed', 'x_google_playstore_val_pca.csv')\n",
    "\n",
    "\n",
    "\n",
    "X_TEST_PATH = os.path.join(\"data\", 'raw', 'x_google_playstore_test.csv')\n",
    "Y_TEST_PATH = os.path.join(\"data\", 'raw', 'y_google_playstore_test.csv')\n",
    "X_TEST_PREPROCESS_PATH = os.path.join(\"data\", 'preprocessed', 'x_google_playstore_test_preprocessed.csv')\n",
    "Y_TEST_ENCODED_PATH = os.path.join(\"data\", 'preprocessed', 'y_google_playstore_test_encoded.csv')\n",
    "X_TEST_PCA_PATH = os.path.join(\"data\", 'preprocessed', 'x_google_playstore_test_pca.csv')\n",
    "\n",
    "CHUNKSIZE = 100000\n",
    "PCA_MODEL_PATH = os.path.join(\"models\", 'pca.bin')\n",
    "CLASS_WEIGHTS_PATH = os.path.join(\"models\", 'class_weights.bin')"
   ]
  },
  {
   "cell_type": "markdown",
   "id": "e4764882-bcf6-4d58-8bfc-8758a8cb57fd",
   "metadata": {
    "tags": []
   },
   "source": [
    "# Training Data Ingestion & Preprocessing"
   ]
  },
  {
   "cell_type": "code",
   "execution_count": 3,
   "id": "099e5da7-5579-4973-a3c6-b844cc840b90",
   "metadata": {
    "tags": []
   },
   "outputs": [
    {
     "name": "stdout",
     "output_type": "stream",
     "text": [
      "Entering get_x_y\n",
      "Exiting get_x_y\n",
      "Entering get and save class weights and label encoding\n",
      "Exiting get and save class weights and label encoding\n",
      "Entering get_x\n",
      "Exiting get_x\n",
      "Entering del_unwanted_columns\n",
      "Exiting del_unwanted_columns\n",
      "Entering get_preprocessed_data\n",
      "Exiting get_preprocessed_data\n",
      "Entering get_scaled_data\n",
      "Exiting get_scaled_data\n",
      "Entering save_preprocessed_data\n",
      "Exiting save_preprocessed_data\n",
      "Entering get_saved_preprocessed_data\n",
      "Exiting get_saved_preprocessed_data\n",
      "Entering fit_and_save_incremental_pca\n",
      "Exiting fit_and_save_incremental_pca\n",
      "Entering get_saved_preprocessed_data\n",
      "Exiting get_saved_preprocessed_data\n",
      "Entering get_principal_components\n",
      "Exiting get_principal_components\n",
      "Entering save principal components\n",
      "Exiting save principal components\n"
     ]
    }
   ],
   "source": [
    "data_preprocess_pipeline(x_path=X_TRAIN_PATH, y_path=Y_TRAIN_PATH, \n",
    "                         preprocessed_x_save_path=X_TRAIN_PREPROCESS_PATH,\n",
    "                         encoded_y_save_path=Y_TRAIN_ENCODED_PATH,\n",
    "                         pca_data_save_path=X_TRAIN_PCA_PATH,\n",
    "                         pca_model_save_path=PCA_MODEL_PATH, \n",
    "                         class_weights_save_path= CLASS_WEIGHTS_PATH,\n",
    "                         chunksize=100000, dataset_type='train')"
   ]
  },
  {
   "cell_type": "markdown",
   "id": "7735842f-139a-4c24-961a-dbf1952c278e",
   "metadata": {
    "tags": []
   },
   "source": [
    "# Validation Data Ingestion & Preprocessing"
   ]
  },
  {
   "cell_type": "code",
   "execution_count": 4,
   "id": "136afe0c-c180-483a-9e12-b5f25f6dea9d",
   "metadata": {
    "tags": []
   },
   "outputs": [
    {
     "name": "stdout",
     "output_type": "stream",
     "text": [
      "Entering get_x_y\n",
      "Exiting get_x_y\n",
      "Entering get and save label encoding\n",
      "Exiting get and save label encoding\n",
      "Entering get_x\n",
      "Exiting get_x\n",
      "Entering del_unwanted_columns\n",
      "Exiting del_unwanted_columns\n",
      "Entering get_preprocessed_data\n",
      "Exiting get_preprocessed_data\n",
      "Entering get_scaled_data\n",
      "Exiting get_scaled_data\n",
      "Entering save_preprocessed_data\n",
      "Exiting save_preprocessed_data\n",
      "Loading prefitted incremental PCA model\n",
      "Loaded prefitted incremental PCA model\n",
      "Entering get_saved_preprocessed_data\n",
      "Exiting get_saved_preprocessed_data\n",
      "Entering get_principal_components\n",
      "Exiting get_principal_components\n",
      "Entering save principal components\n",
      "Exiting save principal components\n"
     ]
    }
   ],
   "source": [
    "data_preprocess_pipeline(x_path=X_VAL_PATH, y_path=Y_VAL_PATH, \n",
    "                         preprocessed_x_save_path=X_VAL_PREPROCESS_PATH,\n",
    "                         encoded_y_save_path=Y_VAL_ENCODED_PATH,\n",
    "                         pca_data_save_path=X_VAL_PCA_PATH,\n",
    "                         pca_model_save_path=PCA_MODEL_PATH, \n",
    "                         class_weights_save_path= None,\n",
    "                         chunksize=100000, dataset_type='validation')"
   ]
  },
  {
   "cell_type": "markdown",
   "id": "0307a4bb-0041-4b3a-b249-ad967fe2dff7",
   "metadata": {
    "tags": []
   },
   "source": [
    "# Test Data Ingestion & Preprocessing"
   ]
  },
  {
   "cell_type": "code",
   "execution_count": 5,
   "id": "08ea6fd3-9cf0-4d64-a1d3-315e5c036c14",
   "metadata": {
    "tags": []
   },
   "outputs": [
    {
     "name": "stdout",
     "output_type": "stream",
     "text": [
      "Entering get_x_y\n",
      "Exiting get_x_y\n",
      "Entering get and save label encoding\n",
      "Exiting get and save label encoding\n",
      "Entering get_x\n",
      "Exiting get_x\n",
      "Entering del_unwanted_columns\n",
      "Exiting del_unwanted_columns\n",
      "Entering get_preprocessed_data\n",
      "Exiting get_preprocessed_data\n",
      "Entering get_scaled_data\n",
      "Exiting get_scaled_data\n",
      "Entering save_preprocessed_data\n",
      "Exiting save_preprocessed_data\n",
      "Loading prefitted incremental PCA model\n",
      "Loaded prefitted incremental PCA model\n",
      "Entering get_saved_preprocessed_data\n",
      "Exiting get_saved_preprocessed_data\n",
      "Entering get_principal_components\n",
      "Exiting get_principal_components\n",
      "Entering save principal components\n",
      "Exiting save principal components\n"
     ]
    }
   ],
   "source": [
    "data_preprocess_pipeline(x_path=X_TEST_PATH, y_path=Y_TEST_PATH, \n",
    "                         preprocessed_x_save_path=X_TEST_PREPROCESS_PATH,\n",
    "                         encoded_y_save_path=Y_TEST_ENCODED_PATH,\n",
    "                         pca_data_save_path=X_TEST_PCA_PATH,\n",
    "                         pca_model_save_path=PCA_MODEL_PATH, \n",
    "                         class_weights_save_path= None,\n",
    "                         chunksize=100000, dataset_type='test')"
   ]
  },
  {
   "cell_type": "code",
   "execution_count": null,
   "id": "7c513f46-42f4-4cbf-8e0e-e50987c0b785",
   "metadata": {},
   "outputs": [],
   "source": []
  }
 ],
 "metadata": {
  "kernelspec": {
   "display_name": "Python 3 (ipykernel)",
   "language": "python",
   "name": "python3"
  },
  "language_info": {
   "codemirror_mode": {
    "name": "ipython",
    "version": 3
   },
   "file_extension": ".py",
   "mimetype": "text/x-python",
   "name": "python",
   "nbconvert_exporter": "python",
   "pygments_lexer": "ipython3",
   "version": "3.11.4"
  }
 },
 "nbformat": 4,
 "nbformat_minor": 5
}
